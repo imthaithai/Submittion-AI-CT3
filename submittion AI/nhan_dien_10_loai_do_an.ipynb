{
  "nbformat": 4,
  "nbformat_minor": 0,
  "metadata": {
    "colab": {
      "name": "nhan dien 10 loai do an.ipynb",
      "provenance": []
    },
    "kernelspec": {
      "name": "python3",
      "display_name": "Python 3"
    },
    "language_info": {
      "name": "python"
    },
    "accelerator": "GPU"
  },
  "cells": [
    {
      "cell_type": "code",
      "execution_count": null,
      "metadata": {
        "id": "xqLpx9WeyOek"
      },
      "outputs": [],
      "source": [
        "import numpy as np\n",
        "import os\n",
        "\n",
        "from keras.models import Sequential\n",
        "from keras.layers import Dense, Conv2D\n",
        "from keras.layers import Dropout\n",
        "from keras.layers import Flatten\n",
        "from keras.constraints import maxnorm\n",
        "from tensorflow.keras.optimizers import Adam\n",
        "\n",
        "from keras.layers.convolutional import Convolution2D\n",
        "from keras.layers.convolutional import MaxPooling2D\n",
        "from keras.callbacks import ModelCheckpoint, LearningRateScheduler\n",
        "from keras.callbacks import ReduceLROnPlateau\n",
        "from keras.callbacks import EarlyStopping\n",
        "\n",
        "\n",
        "from keras.utils import np_utils\n",
        "import matplotlib.pyplot as plt\n",
        "from keras.preprocessing.image import ImageDataGenerator"
      ]
    },
    {
      "cell_type": "code",
      "source": [
        "from google.colab import drive\n",
        "drive.mount('/content/drive')"
      ],
      "metadata": {
        "colab": {
          "base_uri": "https://localhost:8080/"
        },
        "id": "UVQNpP8t0xRi",
        "outputId": "ccea3a4b-0af9-4e1d-a1f2-772506ca330e"
      },
      "execution_count": null,
      "outputs": [
        {
          "output_type": "stream",
          "name": "stdout",
          "text": [
            "Drive already mounted at /content/drive; to attempt to forcibly remount, call drive.mount(\"/content/drive\", force_remount=True).\n"
          ]
        }
      ]
    },
    {
      "cell_type": "code",
      "source": [
        "x_train= '/content/drive/MyDrive/FOOD/x_train'\n",
        "x_test= '/content/drive/MyDrive/FOOD/x_test'"
      ],
      "metadata": {
        "id": "Va_F15UD0zev"
      },
      "execution_count": null,
      "outputs": []
    },
    {
      "cell_type": "code",
      "source": [
        "x_train = ImageDataGenerator(rescale=1/255)\n",
        "x_test = ImageDataGenerator(rescale=1/255)"
      ],
      "metadata": {
        "id": "hS4uyJpQ1bll"
      },
      "execution_count": null,
      "outputs": []
    },
    {
      "cell_type": "code",
      "source": [
        "x_train_data = x_train.flow_from_directory(\n",
        "    directory=r\"/content/drive/MyDrive/FOOD/x_train\",\n",
        "    target_size=(224, 224),\n",
        "    batch_size=3,\n",
        "    class_mode='categorical',\n",
        "    )\n",
        "x_test_data = x_test.flow_from_directory(\n",
        "    directory=r\"/content/drive/MyDrive/FOOD/x_test\",\n",
        "    target_size=(224, 224),\n",
        "    batch_size=3,\n",
        "    class_mode= \"categorical\",\n",
        "    )"
      ],
      "metadata": {
        "colab": {
          "base_uri": "https://localhost:8080/"
        },
        "id": "RCEzN2OH1d-E",
        "outputId": "dd8d07dd-fd8c-4259-c53a-dbab76c2e74a"
      },
      "execution_count": null,
      "outputs": [
        {
          "output_type": "stream",
          "name": "stdout",
          "text": [
            "Found 114 images belonging to 10 classes.\n",
            "Found 80 images belonging to 10 classes.\n"
          ]
        }
      ]
    },
    {
      "cell_type": "code",
      "source": [
        "x_train_data.class_indices"
      ],
      "metadata": {
        "colab": {
          "base_uri": "https://localhost:8080/"
        },
        "id": "myC01f331kH1",
        "outputId": "66125366-51e8-445c-bc5c-5f6cc10d29ad"
      },
      "execution_count": null,
      "outputs": [
        {
          "output_type": "execute_result",
          "data": {
            "text/plain": [
              "{'BANH MI': 0,\n",
              " 'BUN BO': 1,\n",
              " 'BUN CHA HA NOI': 2,\n",
              " 'BUN DAU MAM TOM': 3,\n",
              " 'BUN RIEU': 4,\n",
              " 'CA LOC KHO': 5,\n",
              " 'COM GA ': 6,\n",
              " 'COM TAM': 7,\n",
              " 'GOI CUON': 8,\n",
              " 'PHO': 9}"
            ]
          },
          "metadata": {},
          "execution_count": 12
        }
      ]
    },
    {
      "cell_type": "code",
      "source": [
        "  model = Sequential()\n",
        "\n",
        "  model.add(Conv2D(32,(3,3),input_shape=(224,224,3),padding='same',activation='relu'))\n",
        "  model.add(Dropout(0.2))\n",
        "\n",
        "  model.add(Conv2D(32,(3,3),activation='relu',padding='same'))\n",
        "  model.add(MaxPooling2D(pool_size=(4,4)))\n",
        "\n",
        "  model.add(Conv2D(64,(3,3),activation='relu',padding='same'))\n",
        "  model.add(Dropout(0.2))\n",
        "\n",
        "  model.add(Conv2D(64,(3,3),activation='relu',padding='same'))\n",
        "  model.add(MaxPooling2D(pool_size=(2,2)))\n",
        "\n",
        "  model.add(Conv2D(128,(3,3),activation='relu',padding='same'))\n",
        "  model.add(Dropout(0.2))\n",
        "\n",
        "  model.add(Conv2D(128,(3,3),activation='relu',padding='same'))\n",
        "  model.add(MaxPooling2D(pool_size=(2,2)))\n",
        "\n",
        "  model.add(Flatten())\n",
        "  model.add(Dropout(0.2))\n",
        "\n",
        "  model.add(Dense(1026,activation='relu'))\n",
        "  model.add(Dropout(0.2))\n",
        "\n",
        "  model.add(Dense(512,activation='relu'))\n",
        "  model.add(Dropout(0.2))\n",
        "  model.add(Dense(100,activation='relu'))\n",
        "  model.add(Dropout(0.2))\n",
        "  model.add(Dense(10,activation='softmax'))\n",
        "  model.summary()"
      ],
      "metadata": {
        "colab": {
          "base_uri": "https://localhost:8080/"
        },
        "id": "kXGszs1X1ny9",
        "outputId": "ad6bf354-e17b-4521-f099-24b147924224"
      },
      "execution_count": null,
      "outputs": [
        {
          "output_type": "stream",
          "name": "stdout",
          "text": [
            "Model: \"sequential\"\n",
            "_________________________________________________________________\n",
            " Layer (type)                Output Shape              Param #   \n",
            "=================================================================\n",
            " conv2d (Conv2D)             (None, 224, 224, 32)      896       \n",
            "                                                                 \n",
            " dropout (Dropout)           (None, 224, 224, 32)      0         \n",
            "                                                                 \n",
            " conv2d_1 (Conv2D)           (None, 224, 224, 32)      9248      \n",
            "                                                                 \n",
            " max_pooling2d (MaxPooling2D  (None, 56, 56, 32)       0         \n",
            " )                                                               \n",
            "                                                                 \n",
            " conv2d_2 (Conv2D)           (None, 56, 56, 64)        18496     \n",
            "                                                                 \n",
            " dropout_1 (Dropout)         (None, 56, 56, 64)        0         \n",
            "                                                                 \n",
            " conv2d_3 (Conv2D)           (None, 56, 56, 64)        36928     \n",
            "                                                                 \n",
            " max_pooling2d_1 (MaxPooling  (None, 28, 28, 64)       0         \n",
            " 2D)                                                             \n",
            "                                                                 \n",
            " conv2d_4 (Conv2D)           (None, 28, 28, 128)       73856     \n",
            "                                                                 \n",
            " dropout_2 (Dropout)         (None, 28, 28, 128)       0         \n",
            "                                                                 \n",
            " conv2d_5 (Conv2D)           (None, 28, 28, 128)       147584    \n",
            "                                                                 \n",
            " max_pooling2d_2 (MaxPooling  (None, 14, 14, 128)      0         \n",
            " 2D)                                                             \n",
            "                                                                 \n",
            " flatten (Flatten)           (None, 25088)             0         \n",
            "                                                                 \n",
            " dropout_3 (Dropout)         (None, 25088)             0         \n",
            "                                                                 \n",
            " dense (Dense)               (None, 1026)              25741314  \n",
            "                                                                 \n",
            " dropout_4 (Dropout)         (None, 1026)              0         \n",
            "                                                                 \n",
            " dense_1 (Dense)             (None, 512)               525824    \n",
            "                                                                 \n",
            " dropout_5 (Dropout)         (None, 512)               0         \n",
            "                                                                 \n",
            " dense_2 (Dense)             (None, 100)               51300     \n",
            "                                                                 \n",
            " dropout_6 (Dropout)         (None, 100)               0         \n",
            "                                                                 \n",
            " dense_3 (Dense)             (None, 10)                1010      \n",
            "                                                                 \n",
            "=================================================================\n",
            "Total params: 26,606,456\n",
            "Trainable params: 26,606,456\n",
            "Non-trainable params: 0\n",
            "_________________________________________________________________\n"
          ]
        }
      ]
    },
    {
      "cell_type": "code",
      "source": [
        "from tensorflow.keras.optimizers import SGD\n",
        "#opt = SGD(lr = 0.01, momentum= 0.9)\n",
        "model.compile(optimizer=Adam(learning_rate=0.0005), loss='categorical_crossentropy', metrics=['accuracy'])\n",
        "history=model.fit(x_train_data,\n",
        "                  epochs=50,\n",
        "                  batch_size=32,\n",
        "                  verbose=1,\n",
        "                  validation_data= x_test_data)"
      ],
      "metadata": {
        "colab": {
          "base_uri": "https://localhost:8080/"
        },
        "id": "3tc4Yd8J1rqc",
        "outputId": "387b407b-3525-4391-a595-fe810f3daa4b"
      },
      "execution_count": null,
      "outputs": [
        {
          "output_type": "stream",
          "name": "stdout",
          "text": [
            "Epoch 1/50\n",
            "38/38 [==============================] - 65s 1s/step - loss: 2.3890 - accuracy: 0.0526 - val_loss: 2.3132 - val_accuracy: 0.0500\n",
            "Epoch 2/50\n",
            "38/38 [==============================] - 3s 76ms/step - loss: 2.3520 - accuracy: 0.1228 - val_loss: 2.3099 - val_accuracy: 0.0500\n",
            "Epoch 3/50\n",
            "38/38 [==============================] - 4s 108ms/step - loss: 2.2767 - accuracy: 0.1667 - val_loss: 2.3337 - val_accuracy: 0.0500\n",
            "Epoch 4/50\n",
            "38/38 [==============================] - 3s 76ms/step - loss: 2.2324 - accuracy: 0.1228 - val_loss: 2.3394 - val_accuracy: 0.0625\n",
            "Epoch 5/50\n",
            "38/38 [==============================] - 3s 75ms/step - loss: 2.2227 - accuracy: 0.1842 - val_loss: 2.6295 - val_accuracy: 0.0500\n",
            "Epoch 6/50\n",
            "38/38 [==============================] - 3s 74ms/step - loss: 2.2490 - accuracy: 0.1754 - val_loss: 2.3969 - val_accuracy: 0.0500\n",
            "Epoch 7/50\n",
            "38/38 [==============================] - 3s 75ms/step - loss: 2.2226 - accuracy: 0.1754 - val_loss: 2.4636 - val_accuracy: 0.0500\n",
            "Epoch 8/50\n",
            "38/38 [==============================] - 3s 77ms/step - loss: 2.2381 - accuracy: 0.1754 - val_loss: 2.4322 - val_accuracy: 0.0500\n",
            "Epoch 9/50\n",
            "38/38 [==============================] - 3s 76ms/step - loss: 2.2192 - accuracy: 0.1842 - val_loss: 2.4550 - val_accuracy: 0.0500\n",
            "Epoch 10/50\n",
            "38/38 [==============================] - 3s 77ms/step - loss: 2.2654 - accuracy: 0.1667 - val_loss: 2.3797 - val_accuracy: 0.0625\n",
            "Epoch 11/50\n",
            "38/38 [==============================] - 3s 76ms/step - loss: 2.2296 - accuracy: 0.1404 - val_loss: 2.4513 - val_accuracy: 0.0625\n",
            "Epoch 12/50\n",
            "38/38 [==============================] - 3s 77ms/step - loss: 2.2081 - accuracy: 0.1579 - val_loss: 2.5242 - val_accuracy: 0.0500\n",
            "Epoch 13/50\n",
            "38/38 [==============================] - 3s 77ms/step - loss: 2.2172 - accuracy: 0.1842 - val_loss: 2.4701 - val_accuracy: 0.0500\n",
            "Epoch 14/50\n",
            "38/38 [==============================] - 3s 87ms/step - loss: 2.2228 - accuracy: 0.1667 - val_loss: 2.4813 - val_accuracy: 0.0625\n",
            "Epoch 15/50\n",
            "38/38 [==============================] - 3s 83ms/step - loss: 2.1912 - accuracy: 0.1842 - val_loss: 2.5690 - val_accuracy: 0.0500\n",
            "Epoch 16/50\n",
            "38/38 [==============================] - 3s 76ms/step - loss: 2.2226 - accuracy: 0.1842 - val_loss: 2.5509 - val_accuracy: 0.0500\n",
            "Epoch 17/50\n",
            "38/38 [==============================] - 3s 75ms/step - loss: 2.1838 - accuracy: 0.1491 - val_loss: 2.4510 - val_accuracy: 0.0500\n",
            "Epoch 18/50\n",
            "38/38 [==============================] - 3s 77ms/step - loss: 2.2122 - accuracy: 0.1579 - val_loss: 2.4060 - val_accuracy: 0.0625\n",
            "Epoch 19/50\n",
            "38/38 [==============================] - 3s 76ms/step - loss: 2.1187 - accuracy: 0.1754 - val_loss: 2.8704 - val_accuracy: 0.1125\n",
            "Epoch 20/50\n",
            "38/38 [==============================] - 3s 77ms/step - loss: 2.0907 - accuracy: 0.2018 - val_loss: 2.4625 - val_accuracy: 0.2000\n",
            "Epoch 21/50\n",
            "38/38 [==============================] - 3s 77ms/step - loss: 1.9582 - accuracy: 0.3070 - val_loss: 2.2824 - val_accuracy: 0.1625\n",
            "Epoch 22/50\n",
            "38/38 [==============================] - 3s 77ms/step - loss: 1.8819 - accuracy: 0.2719 - val_loss: 2.5489 - val_accuracy: 0.1000\n",
            "Epoch 23/50\n",
            "38/38 [==============================] - 3s 76ms/step - loss: 1.7771 - accuracy: 0.3421 - val_loss: 2.2615 - val_accuracy: 0.1875\n",
            "Epoch 24/50\n",
            "38/38 [==============================] - 3s 76ms/step - loss: 1.7009 - accuracy: 0.3509 - val_loss: 2.1018 - val_accuracy: 0.3000\n",
            "Epoch 25/50\n",
            "38/38 [==============================] - 3s 76ms/step - loss: 1.5487 - accuracy: 0.4737 - val_loss: 2.5594 - val_accuracy: 0.2500\n",
            "Epoch 26/50\n",
            "38/38 [==============================] - 3s 76ms/step - loss: 1.4425 - accuracy: 0.5000 - val_loss: 2.0370 - val_accuracy: 0.3625\n",
            "Epoch 27/50\n",
            "38/38 [==============================] - 3s 76ms/step - loss: 1.1223 - accuracy: 0.6140 - val_loss: 2.7043 - val_accuracy: 0.3000\n",
            "Epoch 28/50\n",
            "38/38 [==============================] - 3s 75ms/step - loss: 0.8242 - accuracy: 0.6842 - val_loss: 2.3476 - val_accuracy: 0.3625\n",
            "Epoch 29/50\n",
            "38/38 [==============================] - 3s 77ms/step - loss: 0.8721 - accuracy: 0.6930 - val_loss: 2.2312 - val_accuracy: 0.2750\n",
            "Epoch 30/50\n",
            "38/38 [==============================] - 3s 77ms/step - loss: 0.3803 - accuracy: 0.8421 - val_loss: 3.1573 - val_accuracy: 0.2625\n",
            "Epoch 31/50\n",
            "38/38 [==============================] - 3s 76ms/step - loss: 0.3303 - accuracy: 0.8772 - val_loss: 2.8786 - val_accuracy: 0.3000\n",
            "Epoch 32/50\n",
            "38/38 [==============================] - 3s 78ms/step - loss: 0.3031 - accuracy: 0.9035 - val_loss: 4.2507 - val_accuracy: 0.2875\n",
            "Epoch 33/50\n",
            "38/38 [==============================] - 3s 77ms/step - loss: 0.2820 - accuracy: 0.8947 - val_loss: 3.1332 - val_accuracy: 0.2875\n",
            "Epoch 34/50\n",
            "38/38 [==============================] - 3s 76ms/step - loss: 0.1992 - accuracy: 0.9474 - val_loss: 3.5345 - val_accuracy: 0.2625\n",
            "Epoch 35/50\n",
            "38/38 [==============================] - 3s 69ms/step - loss: 0.0377 - accuracy: 0.9912 - val_loss: 4.1716 - val_accuracy: 0.2875\n",
            "Epoch 36/50\n",
            "38/38 [==============================] - 3s 78ms/step - loss: 0.0153 - accuracy: 1.0000 - val_loss: 4.3564 - val_accuracy: 0.2875\n",
            "Epoch 37/50\n",
            "38/38 [==============================] - 3s 77ms/step - loss: 0.0278 - accuracy: 0.9912 - val_loss: 4.8297 - val_accuracy: 0.2750\n",
            "Epoch 38/50\n",
            "38/38 [==============================] - 3s 76ms/step - loss: 0.0526 - accuracy: 0.9825 - val_loss: 4.3095 - val_accuracy: 0.2625\n",
            "Epoch 39/50\n",
            "38/38 [==============================] - 3s 76ms/step - loss: 0.0211 - accuracy: 0.9912 - val_loss: 4.1746 - val_accuracy: 0.3000\n",
            "Epoch 40/50\n",
            "38/38 [==============================] - 3s 78ms/step - loss: 0.0677 - accuracy: 0.9825 - val_loss: 3.6517 - val_accuracy: 0.3125\n",
            "Epoch 41/50\n",
            "38/38 [==============================] - 3s 77ms/step - loss: 0.0322 - accuracy: 0.9825 - val_loss: 5.0885 - val_accuracy: 0.2250\n",
            "Epoch 42/50\n",
            "38/38 [==============================] - 3s 76ms/step - loss: 0.1031 - accuracy: 0.9649 - val_loss: 3.5886 - val_accuracy: 0.4250\n",
            "Epoch 43/50\n",
            "38/38 [==============================] - 3s 78ms/step - loss: 0.1341 - accuracy: 0.9649 - val_loss: 5.0269 - val_accuracy: 0.2500\n",
            "Epoch 44/50\n",
            "38/38 [==============================] - 3s 78ms/step - loss: 0.0372 - accuracy: 0.9825 - val_loss: 5.3253 - val_accuracy: 0.2375\n",
            "Epoch 45/50\n",
            "38/38 [==============================] - 3s 77ms/step - loss: 0.0610 - accuracy: 0.9825 - val_loss: 4.6329 - val_accuracy: 0.2375\n",
            "Epoch 46/50\n",
            "38/38 [==============================] - 3s 76ms/step - loss: 0.1773 - accuracy: 0.9649 - val_loss: 4.1928 - val_accuracy: 0.3000\n",
            "Epoch 47/50\n",
            "38/38 [==============================] - 3s 77ms/step - loss: 0.0339 - accuracy: 0.9912 - val_loss: 3.3467 - val_accuracy: 0.3250\n",
            "Epoch 48/50\n",
            "38/38 [==============================] - 3s 76ms/step - loss: 0.0178 - accuracy: 0.9912 - val_loss: 3.7421 - val_accuracy: 0.2875\n",
            "Epoch 49/50\n",
            "38/38 [==============================] - 3s 76ms/step - loss: 0.0075 - accuracy: 1.0000 - val_loss: 4.2029 - val_accuracy: 0.2875\n",
            "Epoch 50/50\n",
            "38/38 [==============================] - 3s 77ms/step - loss: 0.0028 - accuracy: 1.0000 - val_loss: 4.3913 - val_accuracy: 0.2875\n"
          ]
        }
      ]
    },
    {
      "cell_type": "code",
      "source": [
        "model.save('nhandiendoan.h5')"
      ],
      "metadata": {
        "id": "cNzbDKY-25JG"
      },
      "execution_count": null,
      "outputs": []
    },
    {
      "cell_type": "code",
      "source": [
        "from keras.models import load_model\n",
        "nhandangtraicay = load_model('nhandiendoan.h5')"
      ],
      "metadata": {
        "id": "sQ-HDici3B6-"
      },
      "execution_count": null,
      "outputs": []
    },
    {
      "cell_type": "code",
      "source": [
        "from keras.preprocessing.image import load_img, img_to_array\n",
        "img = load_img('/content/drive/MyDrive/test AI/hoc banh mi.jpg', target_size =(224,224))\n",
        "plt.imshow(img)\n",
        "img = img_to_array(img)\n",
        "img = img.reshape(1,224,224,3)\n",
        "img = img.astype('float32')\n",
        "img = img/255\n",
        "img.shape"
      ],
      "metadata": {
        "colab": {
          "base_uri": "https://localhost:8080/",
          "height": 286
        },
        "id": "bvbOtShX3EmJ",
        "outputId": "b947b585-2648-4980-c64c-6c7b143a7790"
      },
      "execution_count": null,
      "outputs": [
        {
          "output_type": "execute_result",
          "data": {
            "text/plain": [
              "(1, 224, 224, 3)"
            ]
          },
          "metadata": {},
          "execution_count": 23
        },
        {
          "output_type": "display_data",
          "data": {
            "text/plain": [
              "<Figure size 432x288 with 1 Axes>"
            ],
            "image/png": "[encoded data removed]"
          },
          "metadata": {
            "needs_background": "light"
          }
        }
      ]
    },
    {
      "cell_type": "markdown",
      "source": [
        "# Mục mới"
      ],
      "metadata": {
        "id": "FFcjcuUk4MSD"
      }
    },
    {
      "cell_type": "code",
      "source": [
        ""
      ],
      "metadata": {
        "id": "l2CqP7TW5A2K"
      },
      "execution_count": null,
      "outputs": []
    },
    {
      "cell_type": "code",
      "source": [
        "np.argmax(nhandangtraicay.predict(img),axis= 1)"
      ],
      "metadata": {
        "colab": {
          "base_uri": "https://localhost:8080/"
        },
        "id": "d6TWpdcE3SWg",
        "outputId": "0806b2ba-858a-4e6c-9448-627eabaaa231"
      },
      "execution_count": null,
      "outputs": [
        {
          "output_type": "execute_result",
          "data": {
            "text/plain": [
              "array([0])"
            ]
          },
          "metadata": {},
          "execution_count": 24
        }
      ]
    }
  ]
}